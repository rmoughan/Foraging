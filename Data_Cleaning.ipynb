{
 "cells": [
  {
   "cell_type": "markdown",
   "metadata": {
    "id": "ThXVeoJOENUs"
   },
   "source": [
    "List of questions to ask about the data:\n",
    "\n",
    "* Dates\n",
    "* YE44 has 301 entries and YE90 has 164 entries\n",
    "* The one row with the end time as -1s\n",
    "* distances/spatial representation of environment for the more compelex bandit algorithm"
   ]
  },
  {
   "cell_type": "markdown",
   "metadata": {
    "id": "k4bd_AkEDmrb"
   },
   "source": [
    "## Load Dependencies"
   ]
  },
  {
   "cell_type": "code",
   "execution_count": 1,
   "metadata": {
    "executionInfo": {
     "elapsed": 597,
     "status": "ok",
     "timestamp": 1614793493927,
     "user": {
      "displayName": "Ryan Moughan",
      "photoUrl": "",
      "userId": "03366553776246810773"
     },
     "user_tz": 480
    },
    "id": "Ao0SROorDTvS"
   },
   "outputs": [],
   "source": [
    "import os\n",
    "import re\n",
    "import pandas as pd\n",
    "import numpy as np\n",
    "import matplotlib.pyplot as plt"
   ]
  },
  {
   "cell_type": "markdown",
   "metadata": {
    "id": "3nIAB3W4Evhc"
   },
   "source": [
    "## Load Data"
   ]
  },
  {
   "cell_type": "code",
   "execution_count": 2,
   "metadata": {
    "executionInfo": {
     "elapsed": 340,
     "status": "ok",
     "timestamp": 1614793495671,
     "user": {
      "displayName": "Ryan Moughan",
      "photoUrl": "",
      "userId": "03366553776246810773"
     },
     "user_tz": 480
    },
    "id": "t5dj8N1hGX7s"
   },
   "outputs": [],
   "source": [
    "def read_seq_file(filename):\n",
    "    file = open(filename, 'r')\n",
    "    identifier = filename.split(\".\")[0]\n",
    "\n",
    "    data = []\n",
    "    for line in file.readlines():\n",
    "        if '\\x1a' in line:\n",
    "            break\n",
    "        line = line.strip(\"\\n\")\n",
    "        line = re.sub(\" +\", \" \", line).lstrip()\n",
    "        line = line.split(\" \")\n",
    "        if len(line) == 1:\n",
    "            continue\n",
    "        line = [identifier] + [int(i) for i in line]\n",
    "        data.append(line)\n",
    "\n",
    "    return data"
   ]
  },
  {
   "cell_type": "code",
   "execution_count": 4,
   "metadata": {
    "colab": {
     "base_uri": "https://localhost:8080/"
    },
    "executionInfo": {
     "elapsed": 466,
     "status": "ok",
     "timestamp": 1614793495801,
     "user": {
      "displayName": "Ryan Moughan",
      "photoUrl": "",
      "userId": "03366553776246810773"
     },
     "user_tz": 480
    },
    "id": "mJo-aBBRExKl",
    "outputId": "fbeb93e4-4c4c-454d-a884-2b8530e3fc69"
   },
   "outputs": [
    {
     "name": "stdout",
     "output_type": "stream",
     "text": [
      "YE39.SEQ\n",
      "R29.SEQ\n",
      "R28.SEQ\n",
      "WH44.SEQ\n",
      "YE12.SEQ\n",
      "GR56.SEQ\n",
      "WH47.SEQ\n",
      "WH53.SEQ\n",
      "YE17.SEQ\n",
      "WH54.SEQ\n",
      "WH83.SEQ\n",
      "GR9.SEQ\n",
      "GR8.SEQ\n",
      "YE15.SEQ\n",
      "GR23.SEQ\n",
      "YE72.SEQ\n",
      "YE3.SEQ\n",
      "RE91.SEQ\n",
      "WH19.SEQ\n",
      "YE65.SEQ\n",
      "GR35.SEQ\n",
      "R5.SEQ\n",
      "WH24.SEQ\n",
      "WH34.SEQ\n",
      "RE69.SEQ\n",
      "YE74.SEQ\n",
      "YE90.SEQ\n",
      "YE53.SEQ\n",
      "GR29.SEQ\n",
      "YE50.SEQ\n",
      "YE44.SEQ\n",
      "YE83.SEQ\n",
      "WH7.SEQ\n",
      "YE57.SEQ\n",
      "YE43.SEQ\n",
      "YE80.SEQ\n",
      "WH58.SEQ\n",
      "WH89.SEQ\n",
      "YE37.SEQ\n",
      "GR64.SEQ\n"
     ]
    }
   ],
   "source": [
    "data = []\n",
    "os.chdir(\"./data/bee_data\")\n",
    "for filename in os.listdir():\n",
    "    if \"SEQ\" in filename:\n",
    "        print(filename)\n",
    "        file_data = read_seq_file(filename)\n",
    "        data.extend(file_data)"
   ]
  },
  {
   "cell_type": "code",
   "execution_count": 5,
   "metadata": {
    "executionInfo": {
     "elapsed": 463,
     "status": "ok",
     "timestamp": 1614793495802,
     "user": {
      "displayName": "Ryan Moughan",
      "photoUrl": "",
      "userId": "03366553776246810773"
     },
     "user_tz": 480
    },
    "id": "RexypsX3Vk4x"
   },
   "outputs": [],
   "source": [
    "# eric: load treatment information \n",
    "treatment_path = \"../treatment_info.csv\"\n",
    "treatment = pd.read_csv(treatment_path)\n",
    "treatment = treatment.replace({\"best_patch\": {\"Flowers_1:10\":0,\n",
    "                                              \"Flowers_11:20\":1,\n",
    "                                              \"Flowers_21:30\":2,\n",
    "                                              \"Flowers_31:40\":3}})"
   ]
  },
  {
   "cell_type": "markdown",
   "metadata": {
    "id": "0tVsyBN-WTml"
   },
   "source": [
    "## Clean Data"
   ]
  },
  {
   "cell_type": "code",
   "execution_count": 6,
   "metadata": {
    "executionInfo": {
     "elapsed": 315,
     "status": "ok",
     "timestamp": 1614793496611,
     "user": {
      "displayName": "Ryan Moughan",
      "photoUrl": "",
      "userId": "03366553776246810773"
     },
     "user_tz": 480
    },
    "id": "fm1amYJtQBXB"
   },
   "outputs": [],
   "source": [
    "column_names = [\"id\", \"flow_num\", \"date\", \"bout_num\", \"hour_start\", \"min_start\", \"sec_start\", \"cent_sec_start\", \"hour_end\", \"min_end\", \"sec_end\", \"cent_sec_end\", \"rewarded\"]\n",
    "df = pd.DataFrame(data, columns = column_names)\n"
   ]
  },
  {
   "cell_type": "code",
   "execution_count": 7,
   "metadata": {
    "executionInfo": {
     "elapsed": 440,
     "status": "ok",
     "timestamp": 1614793496741,
     "user": {
      "displayName": "Ryan Moughan",
      "photoUrl": "",
      "userId": "03366553776246810773"
     },
     "user_tz": 480
    },
    "id": "1nwUJmPSUu_5"
   },
   "outputs": [],
   "source": [
    "bad_indx = df[df.hour_end == -1].index\n",
    "df.loc[bad_indx, \"hour_end\"] = df.loc[bad_indx].hour_start\n",
    "df.loc[bad_indx, \"min_end\"] = df.loc[bad_indx].min_start\n",
    "df.loc[bad_indx, \"sec_end\"] = df.loc[bad_indx].sec_start\n",
    "df.loc[bad_indx, \"cent_sec_end\"] = df.loc[bad_indx].cent_sec_start\n",
    "\n",
    "df[\"start_time\"] = pd.to_datetime(df[\"hour_start\"]*10000+df[\"min_start\"]*100+df[\"sec_start\"],format='%H%M%S').dt.time\n",
    "df[\"end_time\"] = pd.to_datetime(df[\"hour_end\"]*10000+df[\"min_end\"]*100+df[\"sec_end\"],format='%H%M%S').dt.time\n",
    "\n",
    "df.drop(columns = [\"date\", \"hour_start\", \"min_start\", \"sec_start\", \"cent_sec_start\", \"hour_end\", \"min_end\", \"sec_end\", \"cent_sec_end\"], inplace=True)\n",
    "\n",
    "# eric: Added a visit numbers column: \n",
    "n_visits = list(df.groupby(\"id\", sort=False).count()[\"flow_num\"].values)\n",
    "df[\"visit_num\"] = np.vstack([np.arange(0, n_visit).reshape([-1, 1]) for n_visit in n_visits])\n",
    "\n",
    "# eric: merge treatment information with existing data \n",
    "df = pd.merge(df, treatment, on=\"id\")"
   ]
  },
  {
   "cell_type": "markdown",
   "metadata": {
    "id": "fqKuH4YWeUzU"
   },
   "source": [
    "## Add Outcome Probabilities for each visit according to treatment type:\n",
    "A: One of the patches 2, 3 or 4 in phase 1 rewards with probability 0.9, the two others with probability 0.3 throughout the experiment. The color of the \"good\" patch is varied randomly between bees.\n",
    "\n",
    "B: Patch 2 (flowers 11-20) rewards with probability 0.9 during the bee's first 100 visits, patch 3 (flowers 21-30) rewards with probability 0.9 during visits 101-200, patch 4 (flowers 31-40) rewards with probability 0.9 during visits 201-300. The other 2 patches reward with proability 0.3. So here the location and color of the good patch change twice along the experiment.\n"
   ]
  },
  {
   "cell_type": "code",
   "execution_count": 8,
   "metadata": {
    "executionInfo": {
     "elapsed": 429,
     "status": "ok",
     "timestamp": 1614793499638,
     "user": {
      "displayName": "Ryan Moughan",
      "photoUrl": "",
      "userId": "03366553776246810773"
     },
     "user_tz": 480
    },
    "id": "CQOeGahod-os"
   },
   "outputs": [],
   "source": [
    "# eric: calculate outcome probabilities: \n",
    "\n",
    "def get_outcome_prob(visit_num, flow_num, best_patch):\n",
    "    flow_group = np.argmax([(a <= flow_num < b) for a, b in zip([1, 11, 21, 31], [11, 21, 31, 41])])\n",
    "    visit_group = np.argmax([ (a <= visit_num < b ) for a, b in zip([0, 100, 200], [100, 200, 300])])\n",
    "\n",
    "    if np.isnan(best_patch):\n",
    "\n",
    "        outcomes = np.array([[0, 0.9, 0.3, 0.3],\n",
    "                                 [0, 0.3, 0.9, 0.3],\n",
    "                                 [0, 0.3, 0.3, 0.9]])\n",
    "        outcome_prob = outcomes[visit_group][flow_group]\n",
    "\n",
    "    else:\n",
    "        outcomes = [0, 0.3, 0.3, 0.3]\n",
    "        outcomes[int(best_patch)] = 0.9\n",
    "        outcome_prob = outcomes[flow_group]\n",
    "\n",
    "    return outcome_prob, flow_group, visit_group\n",
    "\n",
    "v = np.vectorize(get_outcome_prob)\n",
    "df[\"outcome_prob\"], _, _ = v(df.visit_num.values, df.flow_num.values, df.best_patch.values)\n"
   ]
  },
  {
   "cell_type": "markdown",
   "metadata": {
    "id": "oaKUMS3kd1RY"
   },
   "source": [
    "## Split up into Treatments"
   ]
  },
  {
   "cell_type": "code",
   "execution_count": 9,
   "metadata": {
    "executionInfo": {
     "elapsed": 289,
     "status": "ok",
     "timestamp": 1614793500421,
     "user": {
      "displayName": "Ryan Moughan",
      "photoUrl": "",
      "userId": "03366553776246810773"
     },
     "user_tz": 480
    },
    "id": "p7FL2mmDdk2l"
   },
   "outputs": [],
   "source": [
    "treatment_A = df[df.Treatment == \"A\"]\n",
    "treatment_B = df[df.Treatment == \"B\"]"
   ]
  },
  {
   "cell_type": "markdown",
   "metadata": {
    "id": "FBINTZWCQMJP"
   },
   "source": [
    "## EDA"
   ]
  },
  {
   "cell_type": "code",
   "execution_count": 10,
   "metadata": {
    "colab": {
     "base_uri": "https://localhost:8080/",
     "height": 204
    },
    "executionInfo": {
     "elapsed": 520,
     "status": "ok",
     "timestamp": 1614793503343,
     "user": {
      "displayName": "Ryan Moughan",
      "photoUrl": "",
      "userId": "03366553776246810773"
     },
     "user_tz": 480
    },
    "id": "kFb0zX7CQN2r",
    "outputId": "392f6f29-5061-4bdc-ffee-d838f6dcddd0"
   },
   "outputs": [
    {
     "data": {
      "text/html": [
       "<div>\n",
       "<style scoped>\n",
       "    .dataframe tbody tr th:only-of-type {\n",
       "        vertical-align: middle;\n",
       "    }\n",
       "\n",
       "    .dataframe tbody tr th {\n",
       "        vertical-align: top;\n",
       "    }\n",
       "\n",
       "    .dataframe thead th {\n",
       "        text-align: right;\n",
       "    }\n",
       "</style>\n",
       "<table border=\"1\" class=\"dataframe\">\n",
       "  <thead>\n",
       "    <tr style=\"text-align: right;\">\n",
       "      <th></th>\n",
       "      <th>id</th>\n",
       "      <th>flow_num</th>\n",
       "      <th>bout_num</th>\n",
       "      <th>rewarded</th>\n",
       "      <th>start_time</th>\n",
       "      <th>end_time</th>\n",
       "      <th>visit_num</th>\n",
       "      <th>Treatment</th>\n",
       "      <th>Flowers_1:10</th>\n",
       "      <th>Flowers_11:20</th>\n",
       "      <th>Flowers_21:30</th>\n",
       "      <th>Flowers_31:40</th>\n",
       "      <th>best_patch</th>\n",
       "      <th>outcome_prob</th>\n",
       "    </tr>\n",
       "  </thead>\n",
       "  <tbody>\n",
       "    <tr>\n",
       "      <th>0</th>\n",
       "      <td>YE39</td>\n",
       "      <td>22</td>\n",
       "      <td>1</td>\n",
       "      <td>1</td>\n",
       "      <td>10:25:50</td>\n",
       "      <td>10:26:02</td>\n",
       "      <td>0</td>\n",
       "      <td>A</td>\n",
       "      <td>Y</td>\n",
       "      <td>W</td>\n",
       "      <td>B</td>\n",
       "      <td>G</td>\n",
       "      <td>2.0</td>\n",
       "      <td>0.9</td>\n",
       "    </tr>\n",
       "    <tr>\n",
       "      <th>1</th>\n",
       "      <td>YE39</td>\n",
       "      <td>22</td>\n",
       "      <td>2</td>\n",
       "      <td>1</td>\n",
       "      <td>10:26:29</td>\n",
       "      <td>10:27:42</td>\n",
       "      <td>1</td>\n",
       "      <td>A</td>\n",
       "      <td>Y</td>\n",
       "      <td>W</td>\n",
       "      <td>B</td>\n",
       "      <td>G</td>\n",
       "      <td>2.0</td>\n",
       "      <td>0.9</td>\n",
       "    </tr>\n",
       "    <tr>\n",
       "      <th>2</th>\n",
       "      <td>YE39</td>\n",
       "      <td>24</td>\n",
       "      <td>2</td>\n",
       "      <td>1</td>\n",
       "      <td>10:28:27</td>\n",
       "      <td>10:29:29</td>\n",
       "      <td>2</td>\n",
       "      <td>A</td>\n",
       "      <td>Y</td>\n",
       "      <td>W</td>\n",
       "      <td>B</td>\n",
       "      <td>G</td>\n",
       "      <td>2.0</td>\n",
       "      <td>0.9</td>\n",
       "    </tr>\n",
       "    <tr>\n",
       "      <th>3</th>\n",
       "      <td>YE39</td>\n",
       "      <td>26</td>\n",
       "      <td>2</td>\n",
       "      <td>1</td>\n",
       "      <td>10:30:03</td>\n",
       "      <td>10:31:14</td>\n",
       "      <td>3</td>\n",
       "      <td>A</td>\n",
       "      <td>Y</td>\n",
       "      <td>W</td>\n",
       "      <td>B</td>\n",
       "      <td>G</td>\n",
       "      <td>2.0</td>\n",
       "      <td>0.9</td>\n",
       "    </tr>\n",
       "    <tr>\n",
       "      <th>4</th>\n",
       "      <td>YE39</td>\n",
       "      <td>28</td>\n",
       "      <td>2</td>\n",
       "      <td>1</td>\n",
       "      <td>10:31:48</td>\n",
       "      <td>10:32:00</td>\n",
       "      <td>4</td>\n",
       "      <td>A</td>\n",
       "      <td>Y</td>\n",
       "      <td>W</td>\n",
       "      <td>B</td>\n",
       "      <td>G</td>\n",
       "      <td>2.0</td>\n",
       "      <td>0.9</td>\n",
       "    </tr>\n",
       "  </tbody>\n",
       "</table>\n",
       "</div>"
      ],
      "text/plain": [
       "     id  flow_num  bout_num  rewarded start_time  end_time  visit_num  \\\n",
       "0  YE39        22         1         1   10:25:50  10:26:02          0   \n",
       "1  YE39        22         2         1   10:26:29  10:27:42          1   \n",
       "2  YE39        24         2         1   10:28:27  10:29:29          2   \n",
       "3  YE39        26         2         1   10:30:03  10:31:14          3   \n",
       "4  YE39        28         2         1   10:31:48  10:32:00          4   \n",
       "\n",
       "  Treatment Flowers_1:10 Flowers_11:20 Flowers_21:30 Flowers_31:40  \\\n",
       "0         A            Y             W             B             G   \n",
       "1         A            Y             W             B             G   \n",
       "2         A            Y             W             B             G   \n",
       "3         A            Y             W             B             G   \n",
       "4         A            Y             W             B             G   \n",
       "\n",
       "   best_patch  outcome_prob  \n",
       "0         2.0           0.9  \n",
       "1         2.0           0.9  \n",
       "2         2.0           0.9  \n",
       "3         2.0           0.9  \n",
       "4         2.0           0.9  "
      ]
     },
     "execution_count": 10,
     "metadata": {},
     "output_type": "execute_result"
    }
   ],
   "source": [
    "df.head()"
   ]
  },
  {
   "cell_type": "code",
   "execution_count": 11,
   "metadata": {
    "colab": {
     "base_uri": "https://localhost:8080/"
    },
    "executionInfo": {
     "elapsed": 554,
     "status": "ok",
     "timestamp": 1614793506574,
     "user": {
      "displayName": "Ryan Moughan",
      "photoUrl": "",
      "userId": "03366553776246810773"
     },
     "user_tz": 480
    },
    "id": "i6xBvsJn9pAp",
    "outputId": "e03644b3-34a2-43fd-d0ed-7c1a467d566f"
   },
   "outputs": [
    {
     "name": "stderr",
     "output_type": "stream",
     "text": [
      "/Users/ryanmoughan/anaconda3/lib/python3.7/site-packages/ipykernel_launcher.py:1: SettingWithCopyWarning: \n",
      "A value is trying to be set on a copy of a slice from a DataFrame.\n",
      "Try using .loc[row_indexer,col_indexer] = value instead\n",
      "\n",
      "See the caveats in the documentation: https://pandas.pydata.org/pandas-docs/stable/user_guide/indexing.html#returning-a-view-versus-a-copy\n",
      "  \"\"\"Entry point for launching an IPython kernel.\n"
     ]
    }
   ],
   "source": [
    "treatment_A[\"chose_best\"] = treatment_A.flow_num.between(treatment_A.best_patch*10+1, (treatment_A.best_patch+1) * 10, inclusive= True)"
   ]
  },
  {
   "cell_type": "code",
   "execution_count": 12,
   "metadata": {
    "colab": {
     "base_uri": "https://localhost:8080/",
     "height": 224
    },
    "executionInfo": {
     "elapsed": 309,
     "status": "ok",
     "timestamp": 1614795868808,
     "user": {
      "displayName": "Ryan Moughan",
      "photoUrl": "",
      "userId": "03366553776246810773"
     },
     "user_tz": 480
    },
    "id": "7YHe_TcqVXGg",
    "outputId": "eab3b873-e913-4492-9ffd-3ab2a32eeaef"
   },
   "outputs": [
    {
     "data": {
      "text/html": [
       "<div>\n",
       "<style scoped>\n",
       "    .dataframe tbody tr th:only-of-type {\n",
       "        vertical-align: middle;\n",
       "    }\n",
       "\n",
       "    .dataframe tbody tr th {\n",
       "        vertical-align: top;\n",
       "    }\n",
       "\n",
       "    .dataframe thead th {\n",
       "        text-align: right;\n",
       "    }\n",
       "</style>\n",
       "<table border=\"1\" class=\"dataframe\">\n",
       "  <thead>\n",
       "    <tr style=\"text-align: right;\">\n",
       "      <th></th>\n",
       "      <th>id</th>\n",
       "      <th>flow_num</th>\n",
       "      <th>bout_num</th>\n",
       "      <th>rewarded</th>\n",
       "      <th>start_time</th>\n",
       "      <th>end_time</th>\n",
       "      <th>visit_num</th>\n",
       "      <th>Treatment</th>\n",
       "      <th>Flowers_1:10</th>\n",
       "      <th>Flowers_11:20</th>\n",
       "      <th>Flowers_21:30</th>\n",
       "      <th>Flowers_31:40</th>\n",
       "      <th>best_patch</th>\n",
       "      <th>outcome_prob</th>\n",
       "      <th>chose_best</th>\n",
       "    </tr>\n",
       "  </thead>\n",
       "  <tbody>\n",
       "    <tr>\n",
       "      <th>0</th>\n",
       "      <td>YE39</td>\n",
       "      <td>22</td>\n",
       "      <td>1</td>\n",
       "      <td>1</td>\n",
       "      <td>10:25:50</td>\n",
       "      <td>10:26:02</td>\n",
       "      <td>0</td>\n",
       "      <td>A</td>\n",
       "      <td>Y</td>\n",
       "      <td>W</td>\n",
       "      <td>B</td>\n",
       "      <td>G</td>\n",
       "      <td>2.0</td>\n",
       "      <td>0.9</td>\n",
       "      <td>True</td>\n",
       "    </tr>\n",
       "    <tr>\n",
       "      <th>1</th>\n",
       "      <td>YE39</td>\n",
       "      <td>22</td>\n",
       "      <td>2</td>\n",
       "      <td>1</td>\n",
       "      <td>10:26:29</td>\n",
       "      <td>10:27:42</td>\n",
       "      <td>1</td>\n",
       "      <td>A</td>\n",
       "      <td>Y</td>\n",
       "      <td>W</td>\n",
       "      <td>B</td>\n",
       "      <td>G</td>\n",
       "      <td>2.0</td>\n",
       "      <td>0.9</td>\n",
       "      <td>True</td>\n",
       "    </tr>\n",
       "    <tr>\n",
       "      <th>2</th>\n",
       "      <td>YE39</td>\n",
       "      <td>24</td>\n",
       "      <td>2</td>\n",
       "      <td>1</td>\n",
       "      <td>10:28:27</td>\n",
       "      <td>10:29:29</td>\n",
       "      <td>2</td>\n",
       "      <td>A</td>\n",
       "      <td>Y</td>\n",
       "      <td>W</td>\n",
       "      <td>B</td>\n",
       "      <td>G</td>\n",
       "      <td>2.0</td>\n",
       "      <td>0.9</td>\n",
       "      <td>True</td>\n",
       "    </tr>\n",
       "    <tr>\n",
       "      <th>3</th>\n",
       "      <td>YE39</td>\n",
       "      <td>26</td>\n",
       "      <td>2</td>\n",
       "      <td>1</td>\n",
       "      <td>10:30:03</td>\n",
       "      <td>10:31:14</td>\n",
       "      <td>3</td>\n",
       "      <td>A</td>\n",
       "      <td>Y</td>\n",
       "      <td>W</td>\n",
       "      <td>B</td>\n",
       "      <td>G</td>\n",
       "      <td>2.0</td>\n",
       "      <td>0.9</td>\n",
       "      <td>True</td>\n",
       "    </tr>\n",
       "    <tr>\n",
       "      <th>4</th>\n",
       "      <td>YE39</td>\n",
       "      <td>28</td>\n",
       "      <td>2</td>\n",
       "      <td>1</td>\n",
       "      <td>10:31:48</td>\n",
       "      <td>10:32:00</td>\n",
       "      <td>4</td>\n",
       "      <td>A</td>\n",
       "      <td>Y</td>\n",
       "      <td>W</td>\n",
       "      <td>B</td>\n",
       "      <td>G</td>\n",
       "      <td>2.0</td>\n",
       "      <td>0.9</td>\n",
       "      <td>True</td>\n",
       "    </tr>\n",
       "  </tbody>\n",
       "</table>\n",
       "</div>"
      ],
      "text/plain": [
       "     id  flow_num  bout_num  rewarded start_time  end_time  visit_num  \\\n",
       "0  YE39        22         1         1   10:25:50  10:26:02          0   \n",
       "1  YE39        22         2         1   10:26:29  10:27:42          1   \n",
       "2  YE39        24         2         1   10:28:27  10:29:29          2   \n",
       "3  YE39        26         2         1   10:30:03  10:31:14          3   \n",
       "4  YE39        28         2         1   10:31:48  10:32:00          4   \n",
       "\n",
       "  Treatment Flowers_1:10 Flowers_11:20 Flowers_21:30 Flowers_31:40  \\\n",
       "0         A            Y             W             B             G   \n",
       "1         A            Y             W             B             G   \n",
       "2         A            Y             W             B             G   \n",
       "3         A            Y             W             B             G   \n",
       "4         A            Y             W             B             G   \n",
       "\n",
       "   best_patch  outcome_prob  chose_best  \n",
       "0         2.0           0.9        True  \n",
       "1         2.0           0.9        True  \n",
       "2         2.0           0.9        True  \n",
       "3         2.0           0.9        True  \n",
       "4         2.0           0.9        True  "
      ]
     },
     "execution_count": 12,
     "metadata": {},
     "output_type": "execute_result"
    }
   ],
   "source": [
    "treatment_A.head()"
   ]
  },
  {
   "cell_type": "code",
   "execution_count": 13,
   "metadata": {
    "colab": {
     "base_uri": "https://localhost:8080/",
     "height": 295
    },
    "executionInfo": {
     "elapsed": 593,
     "status": "ok",
     "timestamp": 1614794084984,
     "user": {
      "displayName": "Ryan Moughan",
      "photoUrl": "",
      "userId": "03366553776246810773"
     },
     "user_tz": 480
    },
    "id": "V75JmbZE9IU4",
    "outputId": "0a1cf3d8-0c26-4d20-c340-f6f36f089097"
   },
   "outputs": [
    {
     "data": {
      "image/png": "[encoded data removed]",
      "text/plain": [
       "<Figure size 432x288 with 1 Axes>"
      ]
     },
     "metadata": {
      "needs_background": "light"
     },
     "output_type": "display_data"
    }
   ],
   "source": [
    "def plot_chose_best(bee_id):\n",
    "    \"\"\" Plot the cumulative best choice of a bee for Phase I of the experiment \n",
    "    \"\"\"\n",
    "    y = np.cumsum(treatment_A[treatment_A.id == bee_id].chose_best)[:150]\n",
    "    x = range(len(y))\n",
    "    plt.plot(x,y)\n",
    "    plt.xlabel(\"Time\")\n",
    "    plt.ylabel(\"Cumulative Number of Best Choices\")\n",
    "    plt.title(\"Cumulative Number of Best Choices Over Time\")\n",
    "\n",
    "for id in treatment_A.id.unique():\n",
    "    plot_chose_best(id)"
   ]
  },
  {
   "cell_type": "code",
   "execution_count": 14,
   "metadata": {
    "colab": {
     "base_uri": "https://localhost:8080/",
     "height": 295
    },
    "executionInfo": {
     "elapsed": 488,
     "status": "ok",
     "timestamp": 1614796741447,
     "user": {
      "displayName": "Ryan Moughan",
      "photoUrl": "",
      "userId": "03366553776246810773"
     },
     "user_tz": 480
    },
    "id": "tSt805HkWpJB",
    "outputId": "23e00c19-73d3-46d2-89da-27b85e5c006e"
   },
   "outputs": [
    {
     "data": {
      "image/png": "[encoded data removed]",
      "text/plain": [
       "<Figure size 432x288 with 1 Axes>"
      ]
     },
     "metadata": {
      "needs_background": "light"
     },
     "output_type": "display_data"
    }
   ],
   "source": [
    "def plot_arms_chosen_phase1(bee_id):\n",
    "    \"\"\"Plot each arm that was chosen for a given bee over time for Phase I of the\n",
    "    experiment. So the control arm (arm0) is ignored\n",
    "    \"\"\"\n",
    "    seq = treatment_A[treatment_A.id == bee_id].flow_num[:150]\n",
    "    best_arm = int(treatment_A[treatment_A.id == bee_id].best_patch.unique()[0])\n",
    "    arm_chosen = (seq - 1) // 10\n",
    "    arm1 = [1 if c == 1 else 0 for c in arm_chosen]\n",
    "    arm2 = [1 if c == 2 else 0 for c in arm_chosen]\n",
    "    arm3 = [1 if c == 3 else 0 for c in arm_chosen]\n",
    "    plt.plot(range(len(arm1)), np.cumsum(arm1), label = \"arm 1\" if best_arm != 1 else \"best_arm\")\n",
    "    plt.plot(range(len(arm2)), np.cumsum(arm2), label = \"arm 2\" if best_arm != 2 else \"best_arm\")\n",
    "    plt.plot(range(len(arm3)), np.cumsum(arm3), label = \"arm 3\" if best_arm != 3 else \"best_arm\")\n",
    "    plt.xlabel(\"Time\")\n",
    "    plt.ylabel(\"Cumulative Times Arm Chosen\")\n",
    "    plt.title(\"Cumulative Times Arm Chosen Over Time for Phase I\")\n",
    "    plt.legend() \n",
    "\n",
    "plot_arms_chosen_phase1(\"YE3\")"
   ]
  },
  {
   "cell_type": "code",
   "execution_count": 15,
   "metadata": {
    "colab": {
     "base_uri": "https://localhost:8080/",
     "height": 295
    },
    "executionInfo": {
     "elapsed": 567,
     "status": "ok",
     "timestamp": 1614796335984,
     "user": {
      "displayName": "Ryan Moughan",
      "photoUrl": "",
      "userId": "03366553776246810773"
     },
     "user_tz": 480
    },
    "id": "VjnmFNXEXDz7",
    "outputId": "62dad313-5791-40bc-8588-da9620bbf82c"
   },
   "outputs": [
    {
     "data": {
      "image/png": "[encoded data removed]",
      "text/plain": [
       "<Figure size 432x288 with 1 Axes>"
      ]
     },
     "metadata": {
      "needs_background": "light"
     },
     "output_type": "display_data"
    }
   ],
   "source": [
    "def plot_arms_chosen_phase2(bee_id):\n",
    "    \"\"\"Plot each arm that was chosen for a given bee over time for the entire\n",
    "    experiment. So the control arm (arm0) is ignored\n",
    "    \"\"\"\n",
    "    seq = treatment_A[treatment_A.id == bee_id].flow_num[150:]\n",
    "    best_arm = int(treatment_A[treatment_A.id == bee_id].best_patch.unique()[0])\n",
    "    arm_chosen = (seq - 1) // 10\n",
    "    arm0 = [1 if c == 0 else 0 for c in arm_chosen]\n",
    "    arm1 = [1 if c == 1 else 0 for c in arm_chosen]\n",
    "    arm2 = [1 if c == 2 else 0 for c in arm_chosen]\n",
    "    arm3 = [1 if c == 3 else 0 for c in arm_chosen]\n",
    "    plt.plot(range(len(arm0)), np.cumsum(arm0), label = \"control arm\")\n",
    "    plt.plot(range(len(arm1)), np.cumsum(arm1), label = \"arm 1\" if best_arm != 1 else \"best_arm\")\n",
    "    plt.plot(range(len(arm2)), np.cumsum(arm2), label = \"arm 2\" if best_arm != 2 else \"best_arm\")\n",
    "    plt.plot(range(len(arm3)), np.cumsum(arm3), label = \"arm 3\" if best_arm != 3 else \"best_arm\")\n",
    "    plt.xlabel(\"Time\")\n",
    "    plt.ylabel(\"Cumulative Times Arm Chosen\")\n",
    "    plt.title(\"Cumulative Times Arm Chosen Over Time\")\n",
    "    plt.legend() \n",
    "\n",
    "plot_arms_chosen_phase2(\"YE12\")"
   ]
  },
  {
   "cell_type": "code",
   "execution_count": 16,
   "metadata": {
    "colab": {
     "base_uri": "https://localhost:8080/",
     "height": 295
    },
    "executionInfo": {
     "elapsed": 500,
     "status": "ok",
     "timestamp": 1614796269348,
     "user": {
      "displayName": "Ryan Moughan",
      "photoUrl": "",
      "userId": "03366553776246810773"
     },
     "user_tz": 480
    },
    "id": "si08aBuiNszj",
    "outputId": "0c856c03-0a2e-4e42-e974-41d70aa81d20"
   },
   "outputs": [
    {
     "data": {
      "image/png": "[encoded data removed]",
      "text/plain": [
       "<Figure size 432x288 with 1 Axes>"
      ]
     },
     "metadata": {
      "needs_background": "light"
     },
     "output_type": "display_data"
    }
   ],
   "source": [
    "def plot_arms_chosen_total(bee_id):\n",
    "    \"\"\"Plot each arm that was chosen for a given bee over time for the entire\n",
    "    experiment. So the control arm (arm0) is ignored\n",
    "    \"\"\"\n",
    "    seq = treatment_A[treatment_A.id == bee_id].flow_num\n",
    "    best_arm = int(treatment_A[treatment_A.id == bee_id].best_patch.unique()[0])\n",
    "    arm_chosen = (seq - 1) // 10\n",
    "    arm0 = [1 if c == 0 else 0 for c in arm_chosen]\n",
    "    arm1 = [1 if c == 1 else 0 for c in arm_chosen]\n",
    "    arm2 = [1 if c == 2 else 0 for c in arm_chosen]\n",
    "    arm3 = [1 if c == 3 else 0 for c in arm_chosen]\n",
    "    plt.plot(range(len(arm0)), np.cumsum(arm0), label = \"control arm\")\n",
    "    plt.plot(range(len(arm1)), np.cumsum(arm1), label = \"arm 1\" if best_arm != 1 else \"best_arm\")\n",
    "    plt.plot(range(len(arm2)), np.cumsum(arm2), label = \"arm 2\" if best_arm != 2 else \"best_arm\")\n",
    "    plt.plot(range(len(arm3)), np.cumsum(arm3), label = \"arm 3\" if best_arm != 3 else \"best_arm\")\n",
    "    plt.xlabel(\"Time\")\n",
    "    plt.ylabel(\"Cumulative Times Arm Chosen\")\n",
    "    plt.title(\"Cumulative Times Arm Chosen Over Time\")\n",
    "    plt.legend() \n",
    "\n",
    "plot_arms_chosen_total(\"YE12\")"
   ]
  },
  {
   "cell_type": "code",
   "execution_count": 17,
   "metadata": {
    "colab": {
     "base_uri": "https://localhost:8080/"
    },
    "executionInfo": {
     "elapsed": 328,
     "status": "ok",
     "timestamp": 1614796526849,
     "user": {
      "displayName": "Ryan Moughan",
      "photoUrl": "",
      "userId": "03366553776246810773"
     },
     "user_tz": 480
    },
    "id": "N1JmQLzJX2-9",
    "outputId": "79c4e20a-8ece-45e9-e829-116d0aaf9815"
   },
   "outputs": [
    {
     "data": {
      "text/plain": [
       "array(['YE39', 'R29', 'R28', 'YE12', 'YE17', 'YE15', 'YE3', 'R5', 'YE90',\n",
       "       'YE37'], dtype=object)"
      ]
     },
     "execution_count": 17,
     "metadata": {},
     "output_type": "execute_result"
    }
   ],
   "source": [
    "treatment_A.id.unique()"
   ]
  }
 ],
 "metadata": {
  "colab": {
   "collapsed_sections": [
    "k4bd_AkEDmrb",
    "3nIAB3W4Evhc",
    "0tVsyBN-WTml",
    "fqKuH4YWeUzU",
    "oaKUMS3kd1RY"
   ],
   "name": "Data Cleaning.ipynb",
   "provenance": []
  },
  "kernelspec": {
   "display_name": "Python 3",
   "language": "python",
   "name": "python3"
  },
  "language_info": {
   "codemirror_mode": {
    "name": "ipython",
    "version": 3
   },
   "file_extension": ".py",
   "mimetype": "text/x-python",
   "name": "python",
   "nbconvert_exporter": "python",
   "pygments_lexer": "ipython3",
   "version": "3.7.6"
  }
 },
 "nbformat": 4,
 "nbformat_minor": 1
}
